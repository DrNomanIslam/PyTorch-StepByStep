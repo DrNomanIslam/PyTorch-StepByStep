{
 "cells": [
  {
   "cell_type": "code",
   "execution_count": 18,
   "metadata": {
    "collapsed": true
   },
   "outputs": [],
   "source": [
    "import torch\n",
    "import torch.nn.functional as fun\n",
    "import matplotlib.pyplot as plt"
   ]
  },
  {
   "cell_type": "markdown",
   "metadata": {},
   "source": [
    "### Generate random data"
   ]
  },
  {
   "cell_type": "code",
   "execution_count": 74,
   "metadata": {
    "collapsed": true
   },
   "outputs": [],
   "source": [
    "x = torch.unsqueeze(torch.linspace(-1, 1, 100), dim=1)\n",
    "y = x.pow(2) + 0.3*torch.rand(x.size())"
   ]
  },
  {
   "cell_type": "markdown",
   "metadata": {},
   "source": [
    "### Define the model"
   ]
  },
  {
   "cell_type": "code",
   "execution_count": 75,
   "metadata": {
    "collapsed": true
   },
   "outputs": [],
   "source": [
    "class Net(torch.nn.Module):\n",
    "    def __init__(self, n_feature, n_hidden1, n_hidden2,n_output):\n",
    "        super(Net, self).__init__()\n",
    "        self.hidden1 = torch.nn.Linear(n_feature, n_hidden1)   # hidden layer 1\n",
    "        self.hidden2 = torch.nn.Linear(n_hidden1, n_hidden2)   # hidden layer 2\n",
    "        self.predict = torch.nn.Linear(n_hidden2, n_output)   # output layer\n",
    "\n",
    "    def forward(self, x):\n",
    "        x = fun.relu(self.hidden1(x))      # activation function for hidden layer\n",
    "        x = fun.relu(self.hidden2(x))      # activation function for hidden layer\n",
    "        x = self.predict(x)             # linear output\n",
    "        return x"
   ]
  },
  {
   "cell_type": "markdown",
   "metadata": {},
   "source": [
    "### Lets create the model and train"
   ]
  },
  {
   "cell_type": "code",
   "execution_count": 76,
   "metadata": {
    "collapsed": true
   },
   "outputs": [],
   "source": [
    "net = Net(n_feature=1, n_hidden1=10, n_hidden2=10, n_output=1)"
   ]
  },
  {
   "cell_type": "code",
   "execution_count": 77,
   "metadata": {
    "collapsed": true
   },
   "outputs": [],
   "source": [
    "optimizer = torch.optim.SGD(net.parameters(), lr=0.3)"
   ]
  },
  {
   "cell_type": "code",
   "execution_count": 78,
   "metadata": {
    "collapsed": true
   },
   "outputs": [],
   "source": [
    "loss_func = torch.nn.MSELoss()"
   ]
  },
  {
   "cell_type": "code",
   "execution_count": 79,
   "metadata": {
    "collapsed": false
   },
   "outputs": [
    {
     "name": "stdout",
     "output_type": "stream",
     "text": [
      "Epoch:  0  Loss:  tensor(0.1554)\n",
      "Epoch:  1  Loss:  tensor(0.1193)\n",
      "Epoch:  2  Loss:  tensor(0.1143)\n",
      "Epoch:  3  Loss:  tensor(0.1108)\n",
      "Epoch:  4  Loss:  tensor(0.1082)\n",
      "Epoch:  5  Loss:  tensor(0.1059)\n",
      "Epoch:  6  Loss:  tensor(0.1041)\n",
      "Epoch:  7  Loss:  tensor(0.1023)\n",
      "Epoch:  8  Loss:  tensor(0.1007)\n",
      "Epoch:  9  Loss:  tensor(1.00000e-02 *\n",
      "       9.9052)\n",
      "Epoch:  10  Loss:  tensor(1.00000e-02 *\n",
      "       9.7497)\n",
      "Epoch:  11  Loss:  tensor(1.00000e-02 *\n",
      "       9.5980)\n",
      "Epoch:  12  Loss:  tensor(1.00000e-02 *\n",
      "       9.4485)\n",
      "Epoch:  13  Loss:  tensor(1.00000e-02 *\n",
      "       9.3008)\n",
      "Epoch:  14  Loss:  tensor(1.00000e-02 *\n",
      "       9.1531)\n",
      "Epoch:  15  Loss:  tensor(1.00000e-02 *\n",
      "       9.0053)\n",
      "Epoch:  16  Loss:  tensor(1.00000e-02 *\n",
      "       8.8581)\n",
      "Epoch:  17  Loss:  tensor(1.00000e-02 *\n",
      "       8.7105)\n",
      "Epoch:  18  Loss:  tensor(1.00000e-02 *\n",
      "       8.5621)\n",
      "Epoch:  19  Loss:  tensor(1.00000e-02 *\n",
      "       8.4132)\n",
      "Epoch:  20  Loss:  tensor(1.00000e-02 *\n",
      "       8.2634)\n",
      "Epoch:  21  Loss:  tensor(1.00000e-02 *\n",
      "       8.1124)\n",
      "Epoch:  22  Loss:  tensor(1.00000e-02 *\n",
      "       7.9595)\n",
      "Epoch:  23  Loss:  tensor(1.00000e-02 *\n",
      "       7.8043)\n",
      "Epoch:  24  Loss:  tensor(1.00000e-02 *\n",
      "       7.6488)\n",
      "Epoch:  25  Loss:  tensor(1.00000e-02 *\n",
      "       7.4918)\n",
      "Epoch:  26  Loss:  tensor(1.00000e-02 *\n",
      "       7.3339)\n",
      "Epoch:  27  Loss:  tensor(1.00000e-02 *\n",
      "       7.1739)\n",
      "Epoch:  28  Loss:  tensor(1.00000e-02 *\n",
      "       7.0118)\n",
      "Epoch:  29  Loss:  tensor(1.00000e-02 *\n",
      "       6.8480)\n",
      "Epoch:  30  Loss:  tensor(1.00000e-02 *\n",
      "       6.6831)\n",
      "Epoch:  31  Loss:  tensor(1.00000e-02 *\n",
      "       6.5160)\n",
      "Epoch:  32  Loss:  tensor(1.00000e-02 *\n",
      "       6.3476)\n",
      "Epoch:  33  Loss:  tensor(1.00000e-02 *\n",
      "       6.1776)\n",
      "Epoch:  34  Loss:  tensor(1.00000e-02 *\n",
      "       6.0064)\n",
      "Epoch:  35  Loss:  tensor(1.00000e-02 *\n",
      "       5.8340)\n",
      "Epoch:  36  Loss:  tensor(1.00000e-02 *\n",
      "       5.6602)\n",
      "Epoch:  37  Loss:  tensor(1.00000e-02 *\n",
      "       5.4855)\n",
      "Epoch:  38  Loss:  tensor(1.00000e-02 *\n",
      "       5.3103)\n",
      "Epoch:  39  Loss:  tensor(1.00000e-02 *\n",
      "       5.1352)\n",
      "Epoch:  40  Loss:  tensor(1.00000e-02 *\n",
      "       4.9610)\n",
      "Epoch:  41  Loss:  tensor(1.00000e-02 *\n",
      "       4.7878)\n",
      "Epoch:  42  Loss:  tensor(1.00000e-02 *\n",
      "       4.6163)\n",
      "Epoch:  43  Loss:  tensor(1.00000e-02 *\n",
      "       4.4474)\n",
      "Epoch:  44  Loss:  tensor(1.00000e-02 *\n",
      "       4.2813)\n",
      "Epoch:  45  Loss:  tensor(1.00000e-02 *\n",
      "       4.1184)\n",
      "Epoch:  46  Loss:  tensor(1.00000e-02 *\n",
      "       3.9595)\n",
      "Epoch:  47  Loss:  tensor(1.00000e-02 *\n",
      "       3.8047)\n",
      "Epoch:  48  Loss:  tensor(1.00000e-02 *\n",
      "       3.6546)\n",
      "Epoch:  49  Loss:  tensor(1.00000e-02 *\n",
      "       3.5094)\n",
      "Epoch:  50  Loss:  tensor(1.00000e-02 *\n",
      "       3.3691)\n",
      "Epoch:  51  Loss:  tensor(1.00000e-02 *\n",
      "       3.2339)\n",
      "Epoch:  52  Loss:  tensor(1.00000e-02 *\n",
      "       3.1040)\n",
      "Epoch:  53  Loss:  tensor(1.00000e-02 *\n",
      "       2.9800)\n",
      "Epoch:  54  Loss:  tensor(1.00000e-02 *\n",
      "       2.8619)\n",
      "Epoch:  55  Loss:  tensor(1.00000e-02 *\n",
      "       2.7497)\n",
      "Epoch:  56  Loss:  tensor(1.00000e-02 *\n",
      "       2.6431)\n",
      "Epoch:  57  Loss:  tensor(1.00000e-02 *\n",
      "       2.5425)\n",
      "Epoch:  58  Loss:  tensor(1.00000e-02 *\n",
      "       2.4483)\n",
      "Epoch:  59  Loss:  tensor(1.00000e-02 *\n",
      "       2.3594)\n",
      "Epoch:  60  Loss:  tensor(1.00000e-02 *\n",
      "       2.2757)\n",
      "Epoch:  61  Loss:  tensor(1.00000e-02 *\n",
      "       2.1973)\n",
      "Epoch:  62  Loss:  tensor(1.00000e-02 *\n",
      "       2.1229)\n",
      "Epoch:  63  Loss:  tensor(1.00000e-02 *\n",
      "       2.0517)\n",
      "Epoch:  64  Loss:  tensor(1.00000e-02 *\n",
      "       1.9849)\n",
      "Epoch:  65  Loss:  tensor(1.00000e-02 *\n",
      "       1.9223)\n",
      "Epoch:  66  Loss:  tensor(1.00000e-02 *\n",
      "       1.8648)\n",
      "Epoch:  67  Loss:  tensor(1.00000e-02 *\n",
      "       1.8107)\n",
      "Epoch:  68  Loss:  tensor(1.00000e-02 *\n",
      "       1.7601)\n",
      "Epoch:  69  Loss:  tensor(1.00000e-02 *\n",
      "       1.7149)\n",
      "Epoch:  70  Loss:  tensor(1.00000e-02 *\n",
      "       1.6716)\n",
      "Epoch:  71  Loss:  tensor(1.00000e-02 *\n",
      "       1.6298)\n",
      "Epoch:  72  Loss:  tensor(1.00000e-02 *\n",
      "       1.5925)\n",
      "Epoch:  73  Loss:  tensor(1.00000e-02 *\n",
      "       1.5573)\n",
      "Epoch:  74  Loss:  tensor(1.00000e-02 *\n",
      "       1.5234)\n",
      "Epoch:  75  Loss:  tensor(1.00000e-02 *\n",
      "       1.4918)\n",
      "Epoch:  76  Loss:  tensor(1.00000e-02 *\n",
      "       1.4637)\n",
      "Epoch:  77  Loss:  tensor(1.00000e-02 *\n",
      "       1.4369)\n",
      "Epoch:  78  Loss:  tensor(1.00000e-02 *\n",
      "       1.4109)\n",
      "Epoch:  79  Loss:  tensor(1.00000e-02 *\n",
      "       1.3864)\n",
      "Epoch:  80  Loss:  tensor(1.00000e-02 *\n",
      "       1.3651)\n",
      "Epoch:  81  Loss:  tensor(1.00000e-02 *\n",
      "       1.3442)\n",
      "Epoch:  82  Loss:  tensor(1.00000e-02 *\n",
      "       1.3241)\n",
      "Epoch:  83  Loss:  tensor(1.00000e-02 *\n",
      "       1.3046)\n",
      "Epoch:  84  Loss:  tensor(1.00000e-02 *\n",
      "       1.2859)\n",
      "Epoch:  85  Loss:  tensor(1.00000e-02 *\n",
      "       1.2685)\n",
      "Epoch:  86  Loss:  tensor(1.00000e-02 *\n",
      "       1.2521)\n",
      "Epoch:  87  Loss:  tensor(1.00000e-02 *\n",
      "       1.2358)\n",
      "Epoch:  88  Loss:  tensor(1.00000e-02 *\n",
      "       1.2203)\n",
      "Epoch:  89  Loss:  tensor(1.00000e-02 *\n",
      "       1.2054)\n",
      "Epoch:  90  Loss:  tensor(1.00000e-02 *\n",
      "       1.1913)\n",
      "Epoch:  91  Loss:  tensor(1.00000e-02 *\n",
      "       1.1786)\n",
      "Epoch:  92  Loss:  tensor(1.00000e-02 *\n",
      "       1.1663)\n",
      "Epoch:  93  Loss:  tensor(1.00000e-02 *\n",
      "       1.1551)\n",
      "Epoch:  94  Loss:  tensor(1.00000e-02 *\n",
      "       1.1450)\n",
      "Epoch:  95  Loss:  tensor(1.00000e-02 *\n",
      "       1.1357)\n",
      "Epoch:  96  Loss:  tensor(1.00000e-02 *\n",
      "       1.1265)\n",
      "Epoch:  97  Loss:  tensor(1.00000e-02 *\n",
      "       1.1172)\n",
      "Epoch:  98  Loss:  tensor(1.00000e-02 *\n",
      "       1.1084)\n",
      "Epoch:  99  Loss:  tensor(1.00000e-02 *\n",
      "       1.0999)\n",
      "Epoch:  100  Loss:  tensor(1.00000e-02 *\n",
      "       1.0919)\n",
      "Epoch:  101  Loss:  tensor(1.00000e-02 *\n",
      "       1.0837)\n",
      "Epoch:  102  Loss:  tensor(1.00000e-02 *\n",
      "       1.0734)\n",
      "Epoch:  103  Loss:  tensor(1.00000e-02 *\n",
      "       1.0638)\n",
      "Epoch:  104  Loss:  tensor(1.00000e-02 *\n",
      "       1.0543)\n",
      "Epoch:  105  Loss:  tensor(1.00000e-02 *\n",
      "       1.0431)\n",
      "Epoch:  106  Loss:  tensor(1.00000e-02 *\n",
      "       1.0325)\n",
      "Epoch:  107  Loss:  tensor(1.00000e-02 *\n",
      "       1.0226)\n",
      "Epoch:  108  Loss:  tensor(1.00000e-02 *\n",
      "       1.0144)\n",
      "Epoch:  109  Loss:  tensor(1.00000e-02 *\n",
      "       1.0067)\n",
      "Epoch:  110  Loss:  tensor(1.00000e-03 *\n",
      "       9.9938)\n",
      "Epoch:  111  Loss:  tensor(1.00000e-03 *\n",
      "       9.9242)\n",
      "Epoch:  112  Loss:  tensor(1.00000e-03 *\n",
      "       9.8587)\n",
      "Epoch:  113  Loss:  tensor(1.00000e-03 *\n",
      "       9.7960)\n",
      "Epoch:  114  Loss:  tensor(1.00000e-03 *\n",
      "       9.7365)\n",
      "Epoch:  115  Loss:  tensor(1.00000e-03 *\n",
      "       9.6800)\n",
      "Epoch:  116  Loss:  tensor(1.00000e-03 *\n",
      "       9.6268)\n",
      "Epoch:  117  Loss:  tensor(1.00000e-03 *\n",
      "       9.5734)\n",
      "Epoch:  118  Loss:  tensor(1.00000e-03 *\n",
      "       9.5191)\n",
      "Epoch:  119  Loss:  tensor(1.00000e-03 *\n",
      "       9.4712)\n",
      "Epoch:  120  Loss:  tensor(1.00000e-03 *\n",
      "       9.4255)\n",
      "Epoch:  121  Loss:  tensor(1.00000e-03 *\n",
      "       9.3831)\n",
      "Epoch:  122  Loss:  tensor(1.00000e-03 *\n",
      "       9.3436)\n",
      "Epoch:  123  Loss:  tensor(1.00000e-03 *\n",
      "       9.3058)\n",
      "Epoch:  124  Loss:  tensor(1.00000e-03 *\n",
      "       9.2696)\n",
      "Epoch:  125  Loss:  tensor(1.00000e-03 *\n",
      "       9.2365)\n",
      "Epoch:  126  Loss:  tensor(1.00000e-03 *\n",
      "       9.2086)\n",
      "Epoch:  127  Loss:  tensor(1.00000e-03 *\n",
      "       9.1807)\n",
      "Epoch:  128  Loss:  tensor(1.00000e-03 *\n",
      "       9.1545)\n",
      "Epoch:  129  Loss:  tensor(1.00000e-03 *\n",
      "       9.1287)\n",
      "Epoch:  130  Loss:  tensor(1.00000e-03 *\n",
      "       9.1020)\n",
      "Epoch:  131  Loss:  tensor(1.00000e-03 *\n",
      "       9.0737)\n",
      "Epoch:  132  Loss:  tensor(1.00000e-03 *\n",
      "       9.0442)\n",
      "Epoch:  133  Loss:  tensor(1.00000e-03 *\n",
      "       9.0172)\n",
      "Epoch:  134  Loss:  tensor(1.00000e-03 *\n",
      "       8.9911)\n",
      "Epoch:  135  Loss:  tensor(1.00000e-03 *\n",
      "       8.9685)\n",
      "Epoch:  136  Loss:  tensor(1.00000e-03 *\n",
      "       8.9474)\n",
      "Epoch:  137  Loss:  tensor(1.00000e-03 *\n",
      "       8.9281)\n",
      "Epoch:  138  Loss:  tensor(1.00000e-03 *\n",
      "       8.9085)\n",
      "Epoch:  139  Loss:  tensor(1.00000e-03 *\n",
      "       8.8899)\n",
      "Epoch:  140  Loss:  tensor(1.00000e-03 *\n",
      "       8.8732)\n",
      "Epoch:  141  Loss:  tensor(1.00000e-03 *\n",
      "       8.8568)\n",
      "Epoch:  142  Loss:  tensor(1.00000e-03 *\n",
      "       8.8393)\n",
      "Epoch:  143  Loss:  tensor(1.00000e-03 *\n",
      "       8.8227)\n",
      "Epoch:  144  Loss:  tensor(1.00000e-03 *\n",
      "       8.8070)\n",
      "Epoch:  145  Loss:  tensor(1.00000e-03 *\n",
      "       8.7938)\n",
      "Epoch:  146  Loss:  tensor(1.00000e-03 *\n",
      "       8.7793)\n",
      "Epoch:  147  Loss:  tensor(1.00000e-03 *\n",
      "       8.7656)\n",
      "Epoch:  148  Loss:  tensor(1.00000e-03 *\n",
      "       8.7525)\n",
      "Epoch:  149  Loss:  tensor(1.00000e-03 *\n",
      "       8.7400)\n",
      "Epoch:  150  Loss:  tensor(1.00000e-03 *\n",
      "       8.7287)\n",
      "Epoch:  151  Loss:  tensor(1.00000e-03 *\n",
      "       8.7174)\n",
      "Epoch:  152  Loss:  tensor(1.00000e-03 *\n",
      "       8.7073)\n",
      "Epoch:  153  Loss:  tensor(1.00000e-03 *\n",
      "       8.6962)\n",
      "Epoch:  154  Loss:  tensor(1.00000e-03 *\n",
      "       8.6859)\n",
      "Epoch:  155  Loss:  tensor(1.00000e-03 *\n",
      "       8.6773)\n",
      "Epoch:  156  Loss:  tensor(1.00000e-03 *\n",
      "       8.6675)\n",
      "Epoch:  157  Loss:  tensor(1.00000e-03 *\n",
      "       8.6652)\n",
      "Epoch:  158  Loss:  tensor(1.00000e-03 *\n",
      "       8.6568)\n",
      "Epoch:  159  Loss:  tensor(1.00000e-03 *\n",
      "       8.6495)\n",
      "Epoch:  160  Loss:  tensor(1.00000e-03 *\n",
      "       8.6427)\n",
      "Epoch:  161  Loss:  tensor(1.00000e-03 *\n",
      "       8.6372)\n",
      "Epoch:  162  Loss:  tensor(1.00000e-03 *\n",
      "       8.6330)\n",
      "Epoch:  163  Loss:  tensor(1.00000e-03 *\n",
      "       8.6348)\n",
      "Epoch:  164  Loss:  tensor(1.00000e-03 *\n",
      "       8.6319)\n",
      "Epoch:  165  Loss:  tensor(1.00000e-03 *\n",
      "       8.6300)\n",
      "Epoch:  166  Loss:  tensor(1.00000e-03 *\n",
      "       8.6091)\n",
      "Epoch:  167  Loss:  tensor(1.00000e-03 *\n",
      "       8.6048)\n",
      "Epoch:  168  Loss:  tensor(1.00000e-03 *\n",
      "       8.5869)\n",
      "Epoch:  169  Loss:  tensor(1.00000e-03 *\n",
      "       8.5824)\n",
      "Epoch:  170  Loss:  tensor(1.00000e-03 *\n",
      "       8.5727)\n",
      "Epoch:  171  Loss:  tensor(1.00000e-03 *\n",
      "       8.5685)\n",
      "Epoch:  172  Loss:  tensor(1.00000e-03 *\n",
      "       8.5601)\n",
      "Epoch:  173  Loss:  tensor(1.00000e-03 *\n",
      "       8.5562)\n",
      "Epoch:  174  Loss:  tensor(1.00000e-03 *\n",
      "       8.5489)\n",
      "Epoch:  175  Loss:  tensor(1.00000e-03 *\n",
      "       8.5454)\n",
      "Epoch:  176  Loss:  tensor(1.00000e-03 *\n",
      "       8.5401)\n",
      "Epoch:  177  Loss:  tensor(1.00000e-03 *\n",
      "       8.5332)\n",
      "Epoch:  178  Loss:  tensor(1.00000e-03 *\n",
      "       8.5312)\n",
      "Epoch:  179  Loss:  tensor(1.00000e-03 *\n",
      "       8.5179)\n",
      "Epoch:  180  Loss:  tensor(1.00000e-03 *\n",
      "       8.5177)\n",
      "Epoch:  181  Loss:  tensor(1.00000e-03 *\n",
      "       8.5201)\n",
      "Epoch:  182  Loss:  tensor(1.00000e-03 *\n",
      "       8.5234)\n",
      "Epoch:  183  Loss:  tensor(1.00000e-03 *\n",
      "       8.5294)\n",
      "Epoch:  184  Loss:  tensor(1.00000e-03 *\n",
      "       8.5367)\n",
      "Epoch:  185  Loss:  tensor(1.00000e-03 *\n",
      "       8.5532)\n",
      "Epoch:  186  Loss:  tensor(1.00000e-03 *\n",
      "       8.5656)\n",
      "Epoch:  187  Loss:  tensor(1.00000e-03 *\n",
      "       8.5833)\n",
      "Epoch:  188  Loss:  tensor(1.00000e-03 *\n",
      "       8.6004)\n",
      "Epoch:  189  Loss:  tensor(1.00000e-03 *\n",
      "       8.6330)\n",
      "Epoch:  190  Loss:  tensor(1.00000e-03 *\n",
      "       8.6577)\n",
      "Epoch:  191  Loss:  tensor(1.00000e-03 *\n",
      "       8.7185)\n",
      "Epoch:  192  Loss:  tensor(1.00000e-03 *\n",
      "       8.7343)\n",
      "Epoch:  193  Loss:  tensor(1.00000e-03 *\n",
      "       8.7811)\n",
      "Epoch:  194  Loss:  tensor(1.00000e-03 *\n",
      "       8.8080)\n",
      "Epoch:  195  Loss:  tensor(1.00000e-03 *\n",
      "       8.8751)\n",
      "Epoch:  196  Loss:  tensor(1.00000e-03 *\n",
      "       8.9158)\n",
      "Epoch:  197  Loss:  tensor(1.00000e-03 *\n",
      "       9.0011)\n",
      "Epoch:  198  Loss:  tensor(1.00000e-03 *\n",
      "       9.0592)\n",
      "Epoch:  199  Loss:  tensor(1.00000e-03 *\n",
      "       9.1673)\n"
     ]
    }
   ],
   "source": [
    "for i in range(200): # 200 epochs\n",
    "    prediction = net(x)    \n",
    "    loss = loss_func(prediction, y)\n",
    "    print(\"Epoch: \", i, \" Loss: \", loss)\n",
    "    optimizer.zero_grad()\n",
    "    loss.backward()\n",
    "    optimizer.step()"
   ]
  },
  {
   "cell_type": "code",
   "execution_count": 80,
   "metadata": {
    "collapsed": false
   },
   "outputs": [
    {
     "data": {
      "text/plain": [
       "<matplotlib.collections.PathCollection at 0xfdd90364e0>"
      ]
     },
     "execution_count": 80,
     "metadata": {},
     "output_type": "execute_result"
    }
   ],
   "source": [
    "plt.scatter(x,y)"
   ]
  },
  {
   "cell_type": "code",
   "execution_count": 81,
   "metadata": {
    "collapsed": false
   },
   "outputs": [],
   "source": [
    "y_pred=net(x)"
   ]
  },
  {
   "cell_type": "code",
   "execution_count": 82,
   "metadata": {
    "collapsed": false
   },
   "outputs": [
    {
     "data": {
      "text/plain": [
       "[<matplotlib.lines.Line2D at 0xfdd903d198>]"
      ]
     },
     "execution_count": 82,
     "metadata": {},
     "output_type": "execute_result"
    }
   ],
   "source": [
    "plt.plot(x.data.numpy(),y_pred.data.numpy(), 'r-', lw=5)"
   ]
  },
  {
   "cell_type": "code",
   "execution_count": 83,
   "metadata": {
    "collapsed": false
   },
   "outputs": [
    {
     "data": {
      "image/png": "[encoded data removed]",
      "text/plain": [
       "<matplotlib.figure.Figure at 0xfdd8f16dd8>"
      ]
     },
     "metadata": {},
     "output_type": "display_data"
    }
   ],
   "source": [
    "plt.show()"
   ]
  },
  {
   "cell_type": "code",
   "execution_count": null,
   "metadata": {
    "collapsed": true
   },
   "outputs": [],
   "source": []
  }
 ],
 "metadata": {
  "anaconda-cloud": {},
  "kernelspec": {
   "display_name": "Python [conda env:Anaconda3]",
   "language": "python",
   "name": "conda-env-Anaconda3-py"
  },
  "language_info": {
   "codemirror_mode": {
    "name": "ipython",
    "version": 3
   },
   "file_extension": ".py",
   "mimetype": "text/x-python",
   "name": "python",
   "nbconvert_exporter": "python",
   "pygments_lexer": "ipython3",
   "version": "3.5.4"
  }
 },
 "nbformat": 4,
 "nbformat_minor": 1
}
